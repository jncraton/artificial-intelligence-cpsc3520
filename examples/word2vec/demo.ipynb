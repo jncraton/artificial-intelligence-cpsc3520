{
 "cells": [
  {
   "cell_type": "code",
   "execution_count": null,
   "id": "criminal-facing",
   "metadata": {},
   "outputs": [],
   "source": [
    "from gensim.models import Word2Vec\n",
    "import gensim.downloader\n",
    "\n",
    "# Model list: https://github.com/RaRe-Technologies/gensim-data\n",
    "vectors = gensim.downloader.load('glove-wiki-gigaword-50')"
   ]
  },
  {
   "cell_type": "code",
   "execution_count": 2,
   "id": "metric-cleanup",
   "metadata": {},
   "outputs": [
    {
     "data": {
      "text/plain": [
       "array([ 9.9417e-01,  1.0505e+00, -9.1176e-01, -1.1473e+00,  2.3449e+00,\n",
       "       -4.9734e-01, -4.9083e-01, -5.8697e-01, -2.5370e-01,  1.2936e+00,\n",
       "        2.3653e-01,  6.5105e-01, -1.2925e-01, -6.1269e-01,  7.5035e-01,\n",
       "       -8.3346e-01, -3.9128e-01, -1.0382e+00,  1.4540e-01,  5.7631e-01,\n",
       "       -1.5575e+00,  3.0044e-01,  8.7986e-02, -1.7414e-03,  4.8648e-01,\n",
       "       -7.4713e-01, -5.9189e-01, -1.2899e-01, -2.0695e-01, -1.1593e+00,\n",
       "        1.6255e+00, -3.0795e-01, -1.1953e+00, -5.5563e-01, -5.4405e-01,\n",
       "       -4.2686e-01,  3.2265e-01, -6.3929e-01,  4.7663e-01,  8.8737e-01,\n",
       "       -1.1602e-01,  9.1945e-03, -1.0353e+00,  3.2262e-02, -1.0283e-01,\n",
       "        1.9345e-02,  2.7317e-02, -9.8705e-01,  2.5928e-01, -7.9575e-01],\n",
       "      dtype=float32)"
      ]
     },
     "execution_count": 2,
     "metadata": {},
     "output_type": "execute_result"
    }
   ],
   "source": [
    "vectors['jesus']"
   ]
  },
  {
   "cell_type": "code",
   "execution_count": 3,
   "id": "bigger-filing",
   "metadata": {},
   "outputs": [
    {
     "data": {
      "text/plain": [
       "[('jesus', 0.9999999403953552),\n",
       " ('christ', 0.853327214717865),\n",
       " ('god', 0.7632808089256287),\n",
       " ('resurrection', 0.7582739591598511),\n",
       " ('crucifixion', 0.7296321392059326),\n",
       " ('divine', 0.7133280634880066),\n",
       " ('blessed', 0.6988376379013062),\n",
       " ('priest', 0.6938756704330444),\n",
       " ('holy', 0.6904336810112),\n",
       " ('faith', 0.6879281997680664)]"
      ]
     },
     "execution_count": 3,
     "metadata": {},
     "output_type": "execute_result"
    }
   ],
   "source": [
    "vectors.similar_by_vector(vectors['jesus'])"
   ]
  },
  {
   "cell_type": "code",
   "execution_count": 4,
   "id": "professional-experience",
   "metadata": {},
   "outputs": [
    {
     "data": {
      "text/plain": [
       "[('learning', 1.0),\n",
       " ('teaching', 0.8757253885269165),\n",
       " ('skills', 0.8351394534111023),\n",
       " ('experience', 0.820142388343811),\n",
       " ('practical', 0.8190487027168274),\n",
       " ('knowledge', 0.8089972138404846),\n",
       " ('teach', 0.807342529296875),\n",
       " ('classes', 0.8049543499946594),\n",
       " ('learn', 0.8022106289863586),\n",
       " ('lessons', 0.7931159138679504)]"
      ]
     },
     "execution_count": 4,
     "metadata": {},
     "output_type": "execute_result"
    }
   ],
   "source": [
    "vectors.similar_by_vector(vectors['learning'])"
   ]
  },
  {
   "cell_type": "code",
   "execution_count": 5,
   "id": "developing-keyboard",
   "metadata": {},
   "outputs": [
    {
     "data": {
      "text/plain": [
       "[('ran', 0.8643898367881775),\n",
       " ('run', 0.8473374843597412),\n",
       " ('running', 0.7975526452064514),\n",
       " ('went', 0.781154215335846),\n",
       " ('runs', 0.7786929607391357),\n",
       " ('took', 0.761730432510376),\n",
       " ('four', 0.7377639412879944),\n",
       " ('nine', 0.7353100776672363),\n",
       " ('was', 0.7352880239486694),\n",
       " ('five', 0.7345309853553772)]"
      ]
     },
     "execution_count": 5,
     "metadata": {},
     "output_type": "execute_result"
    }
   ],
   "source": [
    "vectors.similar_by_vector(vectors['run'] + (vectors['played'] - vectors['play']))"
   ]
  },
  {
   "cell_type": "code",
   "execution_count": 6,
   "id": "acceptable-yukon",
   "metadata": {},
   "outputs": [
    {
     "data": {
      "text/plain": [
       "[('daughter', 0.9429982304573059),\n",
       " ('son', 0.9360089302062988),\n",
       " ('father', 0.9018149375915527),\n",
       " ('wife', 0.8960935473442078),\n",
       " ('cousin', 0.8868656158447266),\n",
       " ('mother', 0.8860800862312317),\n",
       " ('niece', 0.8605152368545532),\n",
       " ('married', 0.8581769466400146),\n",
       " ('granddaughter', 0.8543661236763),\n",
       " ('brother', 0.8502218127250671)]"
      ]
     },
     "execution_count": 6,
     "metadata": {},
     "output_type": "execute_result"
    }
   ],
   "source": [
    "vectors.similar_by_vector(vectors['son'] + (vectors['girl'] - vectors['boy']))"
   ]
  },
  {
   "cell_type": "code",
   "execution_count": 7,
   "id": "becoming-september",
   "metadata": {},
   "outputs": [
    {
     "data": {
      "text/plain": [
       "[('paris', 0.9114121198654175),\n",
       " ('france', 0.807920515537262),\n",
       " ('prohertrib', 0.7868965864181519),\n",
       " ('french', 0.7733354568481445),\n",
       " ('brussels', 0.7433012127876282),\n",
       " ('strasbourg', 0.7422747015953064),\n",
       " ('berlin', 0.70992112159729),\n",
       " ('vienna', 0.7061206102371216),\n",
       " ('rome', 0.6929730176925659),\n",
       " ('lisbon', 0.6904465556144714)]"
      ]
     },
     "execution_count": 7,
     "metadata": {},
     "output_type": "execute_result"
    }
   ],
   "source": [
    "vectors.similar_by_vector(vectors['berlin'] + (vectors['france'] - vectors['germany']))"
   ]
  }
 ],
 "metadata": {
  "kernelspec": {
   "display_name": "Python 3 (ipykernel)",
   "language": "python",
   "name": "python3"
  },
  "language_info": {
   "codemirror_mode": {
    "name": "ipython",
    "version": 3
   },
   "file_extension": ".py",
   "mimetype": "text/x-python",
   "name": "python",
   "nbconvert_exporter": "python",
   "pygments_lexer": "ipython3",
   "version": "3.9.2"
  }
 },
 "nbformat": 4,
 "nbformat_minor": 5
}
